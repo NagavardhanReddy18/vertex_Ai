{
 "cells": [
  {
   "cell_type": "code",
   "execution_count": null,
   "metadata": {
    "id": "ur8xi4C7S06n"
   },
   "outputs": [],
   "source": [
    "# Copyright 2024 Google LLC\n",
    "#\n",
    "# Licensed under the Apache License, Version 2.0 (the \"License\");\n",
    "# you may not use this file except in compliance with the License.\n",
    "# You may obtain a copy of the License at\n",
    "#\n",
    "#     https://www.apache.org/licenses/LICENSE-2.0\n",
    "#\n",
    "# Unless required by applicable law or agreed to in writing, software\n",
    "# distributed under the License is distributed on an \"AS IS\" BASIS,\n",
    "# WITHOUT WARRANTIES OR CONDITIONS OF ANY KIND, either express or implied.\n",
    "# See the License for the specific language governing permissions and\n",
    "# limitations under the License."
   ]
  },
  {
   "cell_type": "markdown",
   "metadata": {
    "id": "JAPoU8Sm5E6e"
   },
   "source": [
    "# Prompt Design - Best Practices\n",
    "\n",
    "<table align=\"left\">\n",
    "  <td style=\"text-align: center\">\n",
    "    <a href=\"https://colab.research.google.com/github/GoogleCloudPlatform/generative-ai/blob/main/gemini/prompts/intro_prompt_design.ipynb\">\n",
    "      <img src=\"https://cloud.google.com/ml-engine/images/colab-logo-32px.png\" alt=\"Google Colaboratory logo\"><br> Open in Colab\n",
    "    </a>\n",
    "  </td>\n",
    "  <td style=\"text-align: center\">\n",
    "    <a href=\"https://console.cloud.google.com/vertex-ai/colab/import/https:%2F%2Fraw.githubusercontent.com%2FGoogleCloudPlatform%2Fgenerative-ai%2Fmain%2Fgemini%2Fprompts%2Fintro_prompt_design.ipynb\">\n",
    "      <img width=\"32px\" src=\"https://lh3.googleusercontent.com/JmcxdQi-qOpctIvWKgPtrzZdJJK-J3sWE1RsfjZNwshCFgE_9fULcNpuXYTilIR2hjwN\" alt=\"Google Cloud Colab Enterprise logo\"><br> Open in Colab Enterprise\n",
    "    </a>\n",
    "  </td>    \n",
    "  <td style=\"text-align: center\">\n",
    "    <a href=\"https://console.cloud.google.com/vertex-ai/workbench/deploy-notebook?download_url=https://raw.githubusercontent.com/GoogleCloudPlatform/generative-ai/main/gemini/prompts/intro_prompt_design.ipynb\">\n",
    "      <img src=\"https://lh3.googleusercontent.com/UiNooY4LUgW_oTvpsNhPpQzsstV5W8F7rYgxgGBD85cWJoLmrOzhVs_ksK_vgx40SHs7jCqkTkCk=e14-rj-sc0xffffff-h130-w32\" alt=\"Vertex AI logo\"><br> Open in Workbench\n",
    "    </a>\n",
    "  </td>\n",
    "  <td style=\"text-align: center\">\n",
    "    <a href=\"https://github.com/GoogleCloudPlatform/generative-ai/blob/main/gemini/prompts/intro_prompt_design.ipynb\">\n",
    "      <img src=\"https://cloud.google.com/ml-engine/images/github-logo-32px.png\" alt=\"GitHub logo\"><br> View on GitHub\n",
    "    </a>\n",
    "  </td>\n",
    "  <td style=\"text-align: center\">\n",
    "    <a href=\"https://goo.gle/4fWHlze\">\n",
    "      <img width=\"32px\" src=\"https://cdn.qwiklabs.com/assets/gcp_cloud-e3a77215f0b8bfa9b3f611c0d2208c7e8708ed31.svg\" alt=\"Google Cloud logo\"><br> Open in  Cloud Skills Boost\n",
    "    </a>\n",
    "  </td>\n",
    "</table>\n",
    "\n",
    "<div style=\"clear: both;\"></div>\n",
    "\n",
    "<b>Share to:</b>\n",
    "\n",
    "<a href=\"https://www.linkedin.com/sharing/share-offsite/?url=https%3A//github.com/GoogleCloudPlatform/generative-ai/blob/main/gemini/prompts/intro_prompt_design.ipynb\" target=\"_blank\">\n",
    "  <img width=\"20px\" src=\"https://upload.wikimedia.org/wikipedia/commons/8/81/LinkedIn_icon.svg\" alt=\"LinkedIn logo\">\n",
    "</a>\n",
    "\n",
    "<a href=\"https://bsky.app/intent/compose?text=https%3A//github.com/GoogleCloudPlatform/generative-ai/blob/main/gemini/prompts/intro_prompt_design.ipynb\" target=\"_blank\">\n",
    "  <img width=\"20px\" src=\"https://upload.wikimedia.org/wikipedia/commons/7/7a/Bluesky_Logo.svg\" alt=\"Bluesky logo\">\n",
    "</a>\n",
    "\n",
    "<a href=\"https://twitter.com/intent/tweet?url=https%3A//github.com/GoogleCloudPlatform/generative-ai/blob/main/gemini/prompts/intro_prompt_design.ipynb\" target=\"_blank\">\n",
    "  <img width=\"20px\" src=\"https://upload.wikimedia.org/wikipedia/commons/5/53/X_logo_2023_original.svg\" alt=\"X logo\">\n",
    "</a>\n",
    "\n",
    "<a href=\"https://reddit.com/submit?url=https%3A//github.com/GoogleCloudPlatform/generative-ai/blob/main/gemini/prompts/intro_prompt_design.ipynb\" target=\"_blank\">\n",
    "  <img width=\"20px\" src=\"https://redditinc.com/hubfs/Reddit%20Inc/Brand/Reddit_Logo.png\" alt=\"Reddit logo\">\n",
    "</a>\n",
    "\n",
    "<a href=\"https://www.facebook.com/sharer/sharer.php?u=https%3A//github.com/GoogleCloudPlatform/generative-ai/blob/main/gemini/prompts/intro_prompt_design.ipynb\" target=\"_blank\">\n",
    "  <img width=\"20px\" src=\"https://upload.wikimedia.org/wikipedia/commons/5/51/Facebook_f_logo_%282019%29.svg\" alt=\"Facebook logo\">\n",
    "</a>            "
   ]
  },
  {
   "cell_type": "markdown",
   "metadata": {
    "id": "84f0f73a0f76"
   },
   "source": [
    "| | |\n",
    "|-|-|\n",
    "|Author(s) | [Polong Lin](https://github.com/polong-lin), [Karl Weinmeister](https://github.com/kweinmeister) |"
   ]
  },
  {
   "cell_type": "markdown",
   "metadata": {
    "id": "tvgnzT1CKxrO"
   },
   "source": [
    "## Overview\n",
    "\n",
    "This notebook covers the essentials of prompt engineering, including some best practices.\n",
    "\n",
    "Learn more about prompt design in the [official documentation](https://cloud.google.com/vertex-ai/docs/generative-ai/text/text-overview).\n",
    "\n",
    "In this notebook, you learn best practices around prompt engineering -- how to design prompts to improve the quality of your responses.\n",
    "\n",
    "This notebook covers the following best practices for prompt engineering:\n",
    "\n",
    "- Be concise\n",
    "- Be specific and well-defined\n",
    "- Ask one task at a time\n",
    "- Turn generative tasks into classification tasks\n",
    "- Improve response quality by including examples"
   ]
  },
  {
   "cell_type": "markdown",
   "metadata": {
    "id": "61RBz8LLbxCR"
   },
   "source": [
    "## Getting Started"
   ]
  },
  {
   "cell_type": "markdown",
   "metadata": {
    "id": "No17Cw5hgx12"
   },
   "source": [
    "### Install Google Gen AI SDK\n"
   ]
  },
  {
   "cell_type": "code",
   "execution_count": 1,
   "metadata": {
    "id": "tFy3H3aPgx12",
    "tags": []
   },
   "outputs": [
    {
     "name": "stdout",
     "output_type": "stream",
     "text": [
      "Note: you may need to restart the kernel to use updated packages.\n"
     ]
    }
   ],
   "source": [
    "%pip install --upgrade --quiet google-genai"
   ]
  },
  {
   "cell_type": "markdown",
   "metadata": {
    "id": "R5Xep4W9lq-Z"
   },
   "source": [
    "### Restart runtime\n",
    "\n",
    "To use the newly installed packages in this Jupyter runtime, you must restart the runtime. You can do this by running the cell below, which will restart the current kernel."
   ]
  },
  {
   "cell_type": "code",
   "execution_count": 2,
   "metadata": {
    "id": "XRvKdaPDTznN",
    "tags": []
   },
   "outputs": [
    {
     "data": {
      "text/plain": [
       "{'status': 'ok', 'restart': True}"
      ]
     },
     "execution_count": 2,
     "metadata": {},
     "output_type": "execute_result"
    }
   ],
   "source": [
    "import IPython\n",
    "\n",
    "app = IPython.Application.instance()\n",
    "app.kernel.do_shutdown(True)"
   ]
  },
  {
   "cell_type": "markdown",
   "metadata": {
    "id": "SbmM4z7FOBpM"
   },
   "source": [
    "<div class=\"alert alert-block alert-warning\">\n",
    "<b>⚠️ The kernel is going to restart. Please wait until it is finished before continuing to the next step. ⚠️</b>\n",
    "</div>\n"
   ]
  },
  {
   "cell_type": "markdown",
   "metadata": {
    "id": "dmWOrTJ3gx13"
   },
   "source": [
    "### Authenticate your notebook environment (Colab only)\n",
    "\n",
    "Authenticate your environment on Google Colab.\n"
   ]
  },
  {
   "cell_type": "code",
   "execution_count": 1,
   "metadata": {
    "id": "NyKGtVQjgx13",
    "tags": []
   },
   "outputs": [],
   "source": [
    "import sys\n",
    "\n",
    "if \"google.colab\" in sys.modules:\n",
    "    from google.colab import auth\n",
    "\n",
    "    auth.authenticate_user()"
   ]
  },
  {
   "cell_type": "markdown",
   "metadata": {
    "id": "06489bd14f16"
   },
   "source": [
    "### Import libraries\n"
   ]
  },
  {
   "cell_type": "code",
   "execution_count": 2,
   "metadata": {
    "id": "154137022fb6",
    "tags": []
   },
   "outputs": [],
   "source": [
    "from IPython.display import Markdown, display\n",
    "from google import genai\n",
    "from google.genai.types import GenerateContentConfig"
   ]
  },
  {
   "cell_type": "markdown",
   "metadata": {
    "id": "DF4l8DTdWgPY"
   },
   "source": [
    "### Set Google Cloud project information and create client\n",
    "\n",
    "To get started using Vertex AI, you must have an existing Google Cloud project and [enable the Vertex AI API](https://console.cloud.google.com/flows/enableapi?apiid=aiplatform.googleapis.com).\n",
    "\n",
    "Learn more about [setting up a project and a development environment](https://cloud.google.com/vertex-ai/docs/start/cloud-environment)."
   ]
  },
  {
   "cell_type": "code",
   "execution_count": 3,
   "metadata": {
    "id": "Nqwi-5ufWp_B",
    "tags": []
   },
   "outputs": [],
   "source": [
    "import os\n",
    "\n",
    "PROJECT_ID = \"[your-project-id]\"  # @param {type: \"string\", placeholder: \"[your-project-id]\", isTemplate: true}\n",
    "if not PROJECT_ID or PROJECT_ID == \"[your-project-id]\":\n",
    "    PROJECT_ID = str(os.environ.get(\"GOOGLE_CLOUD_PROJECT\"))\n",
    "\n",
    "LOCATION = os.environ.get(\"GOOGLE_CLOUD_REGION\", \"us-central1\")"
   ]
  },
  {
   "cell_type": "code",
   "execution_count": 4,
   "metadata": {
    "id": "QqRWdPGmW3NJ",
    "tags": []
   },
   "outputs": [],
   "source": [
    "client = genai.Client(vertexai=True, project=PROJECT_ID, location=LOCATION)"
   ]
  },
  {
   "cell_type": "markdown",
   "metadata": {
    "id": "OnFPpCRtXRl4"
   },
   "source": [
    "### Load model\n",
    "\n",
    "Learn more about all [Gemini models on Vertex AI](https://cloud.google.com/vertex-ai/generative-ai/docs/learn/models#gemini-models)."
   ]
  },
  {
   "cell_type": "code",
   "execution_count": 5,
   "metadata": {
    "id": "IQYu_9SvXQah",
    "tags": []
   },
   "outputs": [],
   "source": [
    "MODEL_ID = \"gemini-2.0-flash-001\"  # @param {type: \"string\"}"
   ]
  },
  {
   "cell_type": "markdown",
   "metadata": {
    "id": "cVOtUNJ5X0PY"
   },
   "source": [
    "## Prompt engineering best practices"
   ]
  },
  {
   "cell_type": "markdown",
   "metadata": {
    "id": "uv_e0fEPX60q"
   },
   "source": [
    "Prompt engineering is all about how to design your prompts so that the response is what you were indeed hoping to see.\n",
    "\n",
    "The idea of using \"unfancy\" prompts is to minimize the noise in your prompt to reduce the possibility of the LLM misinterpreting the intent of the prompt. Below are a few guidelines on how to engineer \"unfancy\" prompts.\n",
    "\n",
    "In this section, you'll cover the following best practices when engineering prompts:\n",
    "\n",
    "* Be concise\n",
    "* Be specific, and well-defined\n",
    "* Ask one task at a time\n",
    "* Improve response quality by including examples\n",
    "* Turn generative tasks to classification tasks to improve safety"
   ]
  },
  {
   "cell_type": "markdown",
   "metadata": {
    "id": "0pY4XX0OX9_Y"
   },
   "source": [
    "### Be concise"
   ]
  },
  {
   "cell_type": "markdown",
   "metadata": {
    "id": "xlRpxyxGYA1K"
   },
   "source": [
    "🛑 Not recommended. The prompt below is unnecessarily verbose."
   ]
  },
  {
   "cell_type": "code",
   "execution_count": 6,
   "metadata": {
    "id": "YKV4G-CfXdbi",
    "tags": []
   },
   "outputs": [
    {
     "data": {
      "text/markdown": [
       "Okay, here are some name ideas for a dried flower shop, playing on different angles and aesthetics:\n",
       "\n",
       "**Emphasizing Dried/Preserved Nature:**\n",
       "\n",
       "*   **The Everbloom Studio:** (Classic, suggests lasting beauty)\n",
       "*   **Forever Floral:** (Simple, direct, and memorable)\n",
       "*   **The Dried Daisy** (Playful, uses a flower name)\n",
       "*   **Lasting Petals:** (Poetic and descriptive)\n",
       "*   **Preserved Posies:** (Alliterative and charming)\n",
       "*   **The Still Life Florist:** (Artistic and sophisticated, hints at the art of arrangement)\n",
       "*   **The Gilded Bloom:** (Elegant and suggests a touch of luxury)\n",
       "*   **Eternal Blossoms:** (Romantic and emphasizes longevity)\n",
       "*   **Dried & Dusted:** (A bit rustic and trendy)\n",
       "*   **The Herbarium:** (More scientific/botanical feel, good if you also sell dried herbs)\n",
       "*   **Petrified Petals:** (This could be a bit out there, but its quite interesting if you want a more avant garde brand)\n",
       "\n",
       "**Focusing on the Style & Aesthetic:**\n",
       "\n",
       "*   **The Rustic Bloom:** (If your style is country/farmhouse)\n",
       "*   **The Boho Bouquet:** (If your style is bohemian/eclectic)\n",
       "*   **The Modern Bloom:** (If your style is minimalist/contemporary)\n",
       "*   **The Vintage Vase:** (If your style is antique/shabby chic)\n",
       "*   **The Golden Hour Florals:** (Evokes warmth, sunset tones often found in dried arrangements)\n",
       "*   **Whispering Stems:** (Quiet, elegant, and evocative)\n",
       "\n",
       "**Unique & Creative:**\n",
       "\n",
       "*   **Paper Petal:** (Suggests delicacy and the textural quality of dried flowers)\n",
       "*   **The Seedling's Legacy:** (A bit abstract, but suggests the long life of the flowers)\n",
       "*   **Terra & Twine:** (Earthy and highlights natural materials)\n",
       "*   **Sunstone Florals:** (Combining a natural element with flowers)\n",
       "*   **The Ephemeral Echo:** (Poetic, suggests capturing a fleeting moment)\n",
       "*   **Moonflower Mercantile:** (Mystical and suggests a curated collection)\n",
       "\n",
       "**Location-Specific (If applicable):**\n",
       "\n",
       "*   [Your Town/Region] **Dry Goods** (Playful, hints at the nature of dried goods)\n",
       "*   [Your Town/Region] **Flora & Fiber** (If you also sell other natural fiber items)\n",
       "\n",
       "**Tips for Choosing:**\n",
       "\n",
       "*   **Say it out loud:** Make sure it sounds good and is easy to pronounce.\n",
       "*   **Check availability:** See if the name is available as a website domain and on social media.\n",
       "*   **Consider your target audience:** Does the name appeal to the type of customer you want to attract?\n",
       "*   **Think about your branding:** Does the name fit the overall look and feel of your shop?\n",
       "\n",
       "I hope this gives you a good starting point! Good luck!\n"
      ],
      "text/plain": [
       "<IPython.core.display.Markdown object>"
      ]
     },
     "metadata": {},
     "output_type": "display_data"
    }
   ],
   "source": [
    "prompt = \"What do you think could be a good name for a flower shop that specializes in selling bouquets of dried flowers more than fresh flowers?\"\n",
    "\n",
    "response = client.models.generate_content(model=MODEL_ID, contents=prompt)\n",
    "display(Markdown(response.text))"
   ]
  },
  {
   "cell_type": "markdown",
   "metadata": {
    "id": "YrJexRHJYnmC"
   },
   "source": [
    "✅ Recommended. The prompt below is to the point and concise."
   ]
  },
  {
   "cell_type": "code",
   "execution_count": 7,
   "metadata": {
    "id": "VHetn9lCYrXB",
    "tags": []
   },
   "outputs": [
    {
     "data": {
      "text/markdown": [
       "Okay, here are some name suggestions for a dried flower shop, playing with different angles:\n",
       "\n",
       "**Elegant & Classic:**\n",
       "\n",
       "*   The Everlasting Bloom\n",
       "*   Preserved Petals\n",
       "*   The Dried Garden\n",
       "*   Ardent Bloom\n",
       "*   The Timeless Bouquet\n",
       "*   Lasting Impressions Floral\n",
       "*   Golden Bloom\n",
       "*   The Conservatory Collection\n",
       "\n",
       "**Modern & Trendy:**\n",
       "\n",
       "*   Dried & Dusted\n",
       "*   The Still Life Florist\n",
       "*   Petrified Flowers\n",
       "*   The Eternal Bloom\n",
       "*   Forever Florals\n",
       "*   Dried Stalk\n",
       "*   Still Life Stems\n",
       "*   Dry Goods Floral\n",
       "*   The Wilted Collection\n",
       "\n",
       "**Whimsical & Playful:**\n",
       "\n",
       "*   The Flower Alchemist\n",
       "*   Petal & Parchment\n",
       "*   Bloom Bones\n",
       "*   The Dried Daisy\n",
       "*   The Dusty Rose\n",
       "*   Vintage Vase\n",
       "*   Wilted Wonders\n",
       "\n",
       "**Location Specific (If applicable):**\n",
       "\n",
       "*   (Your Town/City) Dried Flower Co.\n",
       "*   The (Street Name) Bloomery\n",
       "\n",
       "**Tips for Choosing a Name:**\n",
       "\n",
       "*   **Availability:** Check if the name is available as a website domain and on social media.\n",
       "*   **Target Audience:** Consider who you're trying to reach. A more elegant name might appeal to a different customer than a whimsical one.\n",
       "*   **Memorability:** Is the name easy to remember and pronounce?\n",
       "*   **Branding:** Does the name fit the overall aesthetic and feel of your shop?\n",
       "*   **Uniqueness:** Is it similar to other flower shops in your area? You want to stand out.\n",
       "\n",
       "I hope this list helps you find the perfect name!\n"
      ],
      "text/plain": [
       "<IPython.core.display.Markdown object>"
      ]
     },
     "metadata": {},
     "output_type": "display_data"
    }
   ],
   "source": [
    "prompt = \"Suggest a name for a flower shop that sells bouquets of dried flowers\"\n",
    "\n",
    "response = client.models.generate_content(model=MODEL_ID, contents=prompt)\n",
    "display(Markdown(response.text))"
   ]
  },
  {
   "cell_type": "markdown",
   "metadata": {
    "id": "eXTAvdOHY0OC"
   },
   "source": [
    "### Be specific, and well-defined"
   ]
  },
  {
   "cell_type": "markdown",
   "metadata": {
    "id": "FTH4GEIgY1dp"
   },
   "source": [
    "Suppose that you want to brainstorm creative ways to describe Earth."
   ]
  },
  {
   "cell_type": "markdown",
   "metadata": {
    "id": "o5BmXBiGY4KC"
   },
   "source": [
    "🛑 The prompt below might be a bit too generic (which is certainly OK if you'd like to ask a generic question!)"
   ]
  },
  {
   "cell_type": "code",
   "execution_count": 8,
   "metadata": {
    "id": "eHBaMvv7Y6mR",
    "tags": []
   },
   "outputs": [
    {
     "data": {
      "text/markdown": [
       "Okay, let's dive into the fascinating world of Earth! Here's a breakdown of key facts and information about our home planet:\n",
       "\n",
       "**Basics & Location:**\n",
       "\n",
       "*   **Name:** Earth (also sometimes called Terra)\n",
       "*   **Planet Number:** Third planet from the Sun in our solar system.\n",
       "*   **Solar System:** Located in the Milky Way Galaxy.\n",
       "*   **Type:** Terrestrial planet (rocky and solid).\n",
       "*   **Unique Trait:** Currently the only known planet to harbor life.\n",
       "\n",
       "**Physical Characteristics:**\n",
       "\n",
       "*   **Shape:**  Technically an oblate spheroid (slightly flattened at the poles and bulging at the equator), but we commonly refer to it as a sphere.\n",
       "*   **Diameter:** About 12,742 kilometers (7,918 miles) at the equator.\n",
       "*   **Circumference:** Roughly 40,075 kilometers (24,901 miles) at the equator.\n",
       "*   **Mass:** 5.97 x 10^24 kg (a huge number!).\n",
       "*   **Density:** The densest planet in our solar system.\n",
       "*   **Surface Area:** About 510 million square kilometers (197 million square miles). Roughly 71% is covered by water, and 29% is land.\n",
       "\n",
       "**Orbit & Rotation:**\n",
       "\n",
       "*   **Orbit:** Earth orbits the Sun in an elliptical path.\n",
       "*   **Orbital Period:** Approximately 365.25 days (one year).  That extra 0.25 day is why we have leap years every four years.\n",
       "*   **Average Distance from the Sun:** About 149.6 million kilometers (93 million miles).  This distance is known as one astronomical unit (AU).\n",
       "*   **Rotation:** Earth spins on its axis, completing one rotation in approximately 24 hours (one day).\n",
       "*   **Axial Tilt:**  23.5 degrees. This tilt is responsible for the seasons.\n",
       "\n",
       "**Atmosphere:**\n",
       "\n",
       "*   **Composition:** Primarily nitrogen (about 78%) and oxygen (about 21%), with small amounts of argon, carbon dioxide, and other gases.\n",
       "*   **Layers:** Troposphere (where weather happens), Stratosphere (contains the ozone layer), Mesosphere, Thermosphere, and Exosphere.\n",
       "*   **Function:** Protects us from harmful solar radiation, regulates temperature, and provides the air we breathe.\n",
       "\n",
       "**Internal Structure:**\n",
       "\n",
       "*   **Crust:** The outermost layer, thin and rocky.  Composed of continental crust (thicker, less dense) and oceanic crust (thinner, denser).\n",
       "*   **Mantle:** A thick layer of mostly solid rock beneath the crust.  It's hot and can flow slowly over long periods.\n",
       "*   **Outer Core:** A liquid layer made mostly of iron and nickel.  Its movement generates Earth's magnetic field.\n",
       "*   **Inner Core:** A solid sphere of iron and nickel at the center of the Earth.  Extreme pressure keeps it solid despite incredibly high temperatures.\n",
       "\n",
       "**Magnetic Field:**\n",
       "\n",
       "*   Generated by the movement of molten iron in Earth's outer core (the \"geodynamo\").\n",
       "*   Protects Earth from harmful solar wind and cosmic radiation.\n",
       "*   Causes auroras (Northern and Southern Lights) when charged particles from the Sun interact with the atmosphere near the poles.\n",
       "\n",
       "**Water:**\n",
       "\n",
       "*   **Oceans:** Cover most of Earth's surface, regulating climate and supporting a vast amount of life.\n",
       "*   **Freshwater:** Found in lakes, rivers, glaciers, and groundwater.  Essential for life on land.\n",
       "*   **Water Cycle:** The continuous movement of water between the oceans, atmosphere, and land through evaporation, condensation, precipitation, and runoff.\n",
       "\n",
       "**Life:**\n",
       "\n",
       "*   Earth is the only known planet to support life.\n",
       "*   A huge diversity of organisms exists, from microscopic bacteria to giant whales.\n",
       "*   Life has significantly altered Earth's atmosphere and surface over billions of years.\n",
       "\n",
       "**Moon:**\n",
       "\n",
       "*   Earth has one natural satellite, the Moon.\n",
       "*   The Moon's gravity influences Earth's tides.\n",
       "*   Thought to have formed from a giant impact between Earth and a Mars-sized object early in the solar system's history.\n",
       "\n",
       "**Plate Tectonics:**\n",
       "\n",
       "*   Earth's crust is divided into several large plates that move slowly over the mantle.\n",
       "*   Plate movements cause earthquakes, volcanoes, mountain formation, and the creation of new land.\n",
       "\n",
       "**Key Concepts & Significance:**\n",
       "\n",
       "*   **Habitable Zone:** Earth resides within the Sun's habitable zone (also known as the Goldilocks zone), meaning it's the right distance from the Sun for liquid water to exist on its surface.\n",
       "*   **Importance to Humanity:** Earth is our home. Its resources provide us with everything we need to survive.  Understanding Earth's systems is crucial for addressing climate change, resource management, and ensuring a sustainable future.\n",
       "\n",
       "**Things to Consider:**\n",
       "\n",
       "*   **Climate Change:**  Human activities are causing significant changes to Earth's climate, primarily due to the release of greenhouse gases.\n",
       "*   **Biodiversity Loss:**  Many species are facing extinction due to habitat destruction, pollution, and climate change.\n",
       "*   **Sustainability:**  Finding ways to live sustainably on Earth is essential for preserving the planet for future generations.\n",
       "\n",
       "**In Summary:**\n",
       "\n",
       "Earth is a dynamic, complex, and unique planet. Its combination of atmosphere, water, temperature, and geological processes makes it habitable for a vast array of life.  Studying and understanding Earth is crucial for addressing the challenges we face and ensuring a sustainable future for our planet.\n",
       "\n",
       "Is there anything specific about Earth you'd like to know more about? For example, I can delve deeper into:\n",
       "\n",
       "*   Specific geological features (e.g., the Grand Canyon, the Himalayas)\n",
       "*   The history of life on Earth\n",
       "*   Climate change and its impacts\n",
       "*   Earth's place in the universe\n",
       "*   Specific resources (e.g., mineral, energy, etc.)\n"
      ],
      "text/plain": [
       "<IPython.core.display.Markdown object>"
      ]
     },
     "metadata": {},
     "output_type": "display_data"
    }
   ],
   "source": [
    "prompt = \"Tell me about Earth\"\n",
    "\n",
    "response = client.models.generate_content(model=MODEL_ID, contents=prompt)\n",
    "display(Markdown(response.text))"
   ]
  },
  {
   "cell_type": "markdown",
   "metadata": {
    "id": "4iyvEbteZnFL"
   },
   "source": [
    "✅ Recommended. The prompt below is specific and well-defined."
   ]
  },
  {
   "cell_type": "code",
   "execution_count": 9,
   "metadata": {
    "id": "JQ80z8urZnne",
    "tags": []
   },
   "outputs": [
    {
     "data": {
      "text/markdown": [
       "Earth's uniqueness stems from a complex interplay of factors. Here's a list of key elements that distinguish it from other known planets:\n",
       "\n",
       "**Liquid Water & Habitable Zone:**\n",
       "\n",
       "*   **Abundant Liquid Water:** Earth is the only planet known to have vast quantities of liquid water on its surface. This is crucial for life as we know it.\n",
       "*   **Location within the Habitable Zone:** Earth orbits the sun at a distance where temperatures allow for liquid water to exist. It's neither too hot nor too cold.\n",
       "*   **Stable Temperature Range:** Earth's temperature is relatively stable over long periods, again crucial for life's development and continuation.\n",
       "\n",
       "**Atmosphere & Climate:**\n",
       "\n",
       "*   **Oxygen-Rich Atmosphere:** Earth's atmosphere is composed of roughly 21% oxygen, a product of photosynthesis by life and essential for the respiration of complex organisms.  Other planets have atmospheres, but not with this level of free oxygen.\n",
       "*   **Ozone Layer:** A layer of ozone in the stratosphere absorbs most of the sun's harmful ultraviolet (UV) radiation, protecting life on the surface.\n",
       "*   **Complex Climate System:** Earth has a dynamic climate system with oceans, atmosphere, and land interacting to distribute heat and create diverse weather patterns.\n",
       "\n",
       "**Geology & Geophysics:**\n",
       "\n",
       "*   **Plate Tectonics:** Earth is unique in having active plate tectonics. This process recycles the crust, regulates the carbon cycle, and drives volcanism and mountain building.\n",
       "*   **Molten Core & Magnetic Field:** Earth's molten iron core generates a strong magnetic field that shields the planet from harmful solar radiation.\n",
       "*   **Active Volcanism:** While volcanism exists on other planets, Earth's active volcanism is linked to plate tectonics and plays a role in the planet's climate and atmosphere.\n",
       "\n",
       "**Life & Biosphere:**\n",
       "\n",
       "*   **Presence of Life:** Earth is the only planet we know to harbor life.\n",
       "*   **Biodiversity:** Earth supports an incredible diversity of life forms, from microscopic bacteria to towering trees and complex animals.\n",
       "*   **Biosphere:** Earth has a complex and interconnected biosphere, encompassing all living organisms and their interactions with the environment.\n",
       "*   **Technological Civilization:** Earth is the only planet known to have a technological civilization capable of manipulating the environment and exploring the universe. (Though this is a very recent development)\n",
       "\n",
       "**The Moon:**\n",
       "\n",
       "*   **Relatively Large Moon:** Earth has a single, relatively large moon compared to its size. The moon stabilizes Earth's axial tilt, which helps maintain a stable climate, and it causes tides.\n",
       "\n",
       "**Other Factors:**\n",
       "\n",
       "*   **Carbon Cycle:** Earth has a complex carbon cycle that regulates the amount of carbon dioxide in the atmosphere, which affects climate.\n",
       "*   **Presence of Continents and Oceans:** The distribution of landmasses and oceans influences climate, weather patterns, and biodiversity.\n",
       "*   **Age and Evolution:** Earth's age and the long period of time since its formation have allowed for the evolution of complex life.\n",
       "\n",
       "It's important to remember that our understanding of other planets is still evolving. As we explore further, we may find that some of these characteristics are not entirely unique to Earth, but the combination of all these factors is what makes our planet so special and conducive to life as we know it.\n"
      ],
      "text/plain": [
       "<IPython.core.display.Markdown object>"
      ]
     },
     "metadata": {},
     "output_type": "display_data"
    }
   ],
   "source": [
    "prompt = \"Generate a list of ways that makes Earth unique compared to other planets\"\n",
    "\n",
    "response = client.models.generate_content(model=MODEL_ID, contents=prompt)\n",
    "display(Markdown(response.text))"
   ]
  },
  {
   "cell_type": "markdown",
   "metadata": {
    "id": "R5kmfZYHZsJ7"
   },
   "source": [
    "### Ask one task at a time"
   ]
  },
  {
   "cell_type": "markdown",
   "metadata": {
    "id": "rsAezxeYZuUN"
   },
   "source": [
    "🛑 Not recommended. The prompt below has two parts to the question that could be asked separately."
   ]
  },
  {
   "cell_type": "code",
   "execution_count": 10,
   "metadata": {
    "id": "ElywPXpuZtWf",
    "tags": []
   },
   "outputs": [
    {
     "data": {
      "text/markdown": [
       "Okay, let's tackle these two questions. They're quite different, but both interesting!\n",
       "\n",
       "**Best Method of Boiling Water**\n",
       "\n",
       "There isn't one single \"best\" method of boiling water in all situations. The \"best\" method depends on your priorities: speed, energy efficiency, safety, convenience, and available equipment. Here's a breakdown of common methods and their pros/cons:\n",
       "\n",
       "*   **Electric Kettle:**\n",
       "    *   **Pros:** Fast, energy efficient (usually the most efficient way to boil small amounts of water), convenient, often has auto shut-off for safety.\n",
       "    *   **Cons:** Requires electricity, can be bulky, limited to boiling water (can't be used for cooking).\n",
       "    *   **Best for:** Quickly boiling water for tea, coffee, or single-serving cooking.\n",
       "\n",
       "*   **Stovetop Kettle (on a gas or electric stove):**\n",
       "    *   **Pros:** Versatile (can use on gas, electric, or induction stoves), can be used in power outages (with a gas stove), often has a whistle to alert you when boiling.\n",
       "    *   **Cons:** Can be slower than an electric kettle, can be less energy efficient (especially on electric stoves), requires monitoring.\n",
       "    *   **Best for:** Boiling water for larger quantities, when you don't have an electric kettle, or during a power outage (with a gas stove).\n",
       "\n",
       "*   **Stovetop Pot (on a gas or electric stove):**\n",
       "    *   **Pros:** Extremely versatile, can boil large quantities of water, no special equipment needed.\n",
       "    *   **Cons:** Slowest method, least energy efficient, requires close monitoring (can easily boil over).\n",
       "    *   **Best for:** Boiling very large quantities of water (e.g., for pasta), or when no kettle is available.\n",
       "\n",
       "*   **Microwave:**\n",
       "    *   **Pros:** Fast for small amounts of water.\n",
       "    *   **Cons:** Can be uneven heating (potentially dangerous), can superheat water (boiling violently when disturbed), not energy efficient, only boils small quantities, can be very dangerous.\n",
       "    *   **Best for:** (Generally not recommended). If you *must* use a microwave, use a microwave safe container, insert a wooden chopstick or spoon to prevent superheating, and monitor closely. Never boil water with anything else in it (like tea).\n",
       "\n",
       "**Summary Table:**\n",
       "\n",
       "| Method           | Speed       | Energy Efficiency | Convenience | Safety     | Best For                               |\n",
       "| ---------------- | ----------- | ------------------ | ----------- | ---------- | -------------------------------------- |\n",
       "| Electric Kettle  | Fastest    | Most Efficient     | Most         | High       | Small quantities, tea, coffee           |\n",
       "| Stovetop Kettle  | Medium      | Medium             | Medium      | Medium     | Larger quantities, versatile            |\n",
       "| Stovetop Pot     | Slowest     | Least Efficient    | Least        | Low        | Very large quantities                    |\n",
       "| Microwave        | Fast-ish   | Very low       | Medium        | Very Low      | Not recommended at all. |\n",
       "\n",
       "**Therefore, for most people, an electric kettle is often the \"best\" method due to its speed, energy efficiency, and convenience.**\n",
       "\n",
       "**Why is the Sky Blue?**\n",
       "\n",
       "The sky is blue due to a phenomenon called **Rayleigh scattering**. Here's the explanation:\n",
       "\n",
       "1.  **Sunlight is White (But Made of Many Colors):** Sunlight appears white, but it's actually composed of all the colors of the rainbow (red, orange, yellow, green, blue, indigo, violet).\n",
       "\n",
       "2.  **Sunlight Enters the Atmosphere:** As sunlight enters the Earth's atmosphere, it collides with tiny air molecules (mostly nitrogen and oxygen).\n",
       "\n",
       "3.  **Scattering of Light:** This collision causes the light to scatter in different directions.\n",
       "\n",
       "4.  **Rayleigh Scattering & Wavelength:** Rayleigh scattering is much more effective at scattering shorter wavelengths of light (blue and violet) than longer wavelengths (red and orange). This is because the size of the air molecules is much smaller than the wavelengths of visible light.\n",
       "\n",
       "5.  **Blue Light Dominates:** Violet light is scattered even more than blue light. However, the sun emits slightly less violet light, and our eyes are more sensitive to blue light. Therefore, we perceive the sky as blue.\n",
       "\n",
       "6.  **Sunsets are Red/Orange:** At sunset (or sunrise), the sunlight has to travel through much more of the atmosphere to reach our eyes. This means that most of the blue light has already been scattered away by the time it reaches us. The longer wavelengths of light (red and orange) are less affected by scattering and can pass through the atmosphere more easily, giving us those beautiful sunset colors.\n",
       "\n",
       "**In short:**\n",
       "\n",
       "*   Sunlight hits the atmosphere.\n",
       "*   Blue light is scattered more than other colors due to its shorter wavelength.\n",
       "*   That scattered blue light is what we see when we look at the sky.\n",
       "\n",
       "I hope this comprehensive explanation is helpful!\n"
      ],
      "text/plain": [
       "<IPython.core.display.Markdown object>"
      ]
     },
     "metadata": {},
     "output_type": "display_data"
    }
   ],
   "source": [
    "prompt = \"What's the best method of boiling water and why is the sky blue?\"\n",
    "\n",
    "response = client.models.generate_content(model=MODEL_ID, contents=prompt)\n",
    "display(Markdown(response.text))"
   ]
  },
  {
   "cell_type": "markdown",
   "metadata": {
    "id": "ejzahazBZ8vk"
   },
   "source": [
    "✅ Recommended. The prompts below asks one task a time."
   ]
  },
  {
   "cell_type": "code",
   "execution_count": 11,
   "metadata": {
    "id": "C5ckp2F0Z_Ba",
    "tags": []
   },
   "outputs": [
    {
     "data": {
      "text/markdown": [
       "The \"best\" method for boiling water depends on your priorities: speed, energy efficiency, cost, and convenience. Here's a breakdown:\n",
       "\n",
       "**1. Electric Kettle:**\n",
       "\n",
       "*   **Pros:**\n",
       "    *   **Speed:** Often the fastest for small to medium amounts of water.\n",
       "    *   **Energy Efficiency:** More efficient than stovetop methods for smaller volumes, as they heat only the water, not a large pan.\n",
       "    *   **Convenience:** Automatic shut-off is a safety feature and prevents boiling dry.\n",
       "    *   **Precision (some models):** Variable temperature settings are useful for tea brewing, where different teas require different temperatures.\n",
       "*   **Cons:**\n",
       "    *   **Capacity:** Limited by the kettle's size.\n",
       "    *   **Cost:** Requires an electrical outlet.\n",
       "    *   **Maintenance:** Needs descaling regularly, depending on your water hardness.\n",
       "\n",
       "**2. Stovetop (Gas or Electric):**\n",
       "\n",
       "*   **Pros:**\n",
       "    *   **Capacity:** Can boil large volumes of water in a pot, limited only by pot size.\n",
       "    *   **Cost:** Most people already have a stovetop.\n",
       "    *   **Versatility:** Can be used with various pot types.\n",
       "*   **Cons:**\n",
       "    *   **Speed:** Slower than an electric kettle for small to medium volumes.\n",
       "    *   **Energy Efficiency:** Less efficient than electric kettles for small volumes, as the pot and stovetop surface also get heated.\n",
       "    *   **Safety:** Requires monitoring to prevent boiling dry.\n",
       "    *   **Uneven heating (electric coil):** Can create hot spots on the pot.\n",
       "*   **Different Stovetop Types:**\n",
       "    *   **Gas:** Fast heating if you have a powerful burner.  Good temperature control.\n",
       "    *   **Electric Coil:**  Least expensive type of electric stove.  Slowest to heat. Uneven heating.\n",
       "    *   **Electric Smooth Top (Ceramic or Induction):** Heats faster than coil electric. More even heating. Easier to clean.\n",
       "    *   **Induction:** Fastest stovetop method.  Very energy efficient because it heats only the pot itself. Requires induction-compatible cookware (usually cast iron or stainless steel).\n",
       "\n",
       "**3. Microwave:**\n",
       "\n",
       "*   **Pros:**\n",
       "    *   **Speed:** Can be faster than stovetop for small amounts of water.\n",
       "    *   **Convenience:** Simple to use.\n",
       "*   **Cons:**\n",
       "    *   **Uneven Heating:** Microwaves can create \"superheated\" water, which can erupt violently when disturbed (e.g., adding a teabag). This is a significant safety concern.  **ALWAYS use a microwave-safe container and avoid completely smooth surfaces.** Adding a wooden stick (like a chopstick) can disrupt the surface tension and help prevent superheating.\n",
       "    *   **Energy Efficiency:** Not as efficient as other methods.\n",
       "    *   **Taste:** Some people report that microwaved water has a slightly different taste.\n",
       "    *   **Not Recommended:** Generally, this method is not the safest or best practice.\n",
       "\n",
       "**4. Campfire/Open Fire:**\n",
       "\n",
       "*   **Pros:**\n",
       "    *   **Practical:** Useful in outdoor situations where other methods aren't available.\n",
       "*   **Cons:**\n",
       "    *   **Speed:** Very slow, dependent on fire intensity.\n",
       "    *   **Safety:** Requires careful fire management and a stable pot support.\n",
       "    *   **Cleanliness:** Can be messy and introduce soot into the water.\n",
       "    *   **Requires proper cookware:** You need a pot that can withstand direct flame and high temperatures.\n",
       "\n",
       "**Summary Table:**\n",
       "\n",
       "| Method           | Speed       | Energy Efficiency | Convenience    | Capacity   | Safety           | Cost           | Best For                                      |\n",
       "| ----------------- | ----------- | ----------------- | ------------- | ---------- | ---------------- | -------------- | ---------------------------------------------- |\n",
       "| Electric Kettle  | Fastest      | Highest           | Very High     | Small/Med  | High (auto-off)  | Medium        | Small to medium amounts, quick tea, efficiency  |\n",
       "| Stovetop (Gas)   | Medium/Fast  | Medium            | Medium        | Large      | Medium           | Low            | Large amounts, existing stovetop              |\n",
       "| Stovetop (Elec)  | Slow/Medium | Low/Medium        | Medium        | Large      | Medium           | Low            | Large amounts, existing stovetop              |\n",
       "| Induction       | Very Fast    | Very High         | Medium        | Large      | Medium           | High           | Speed, energy efficiency, existing cookware   |\n",
       "| Microwave        | Fast         | Low               | High          | Small      | Low (superheating)| Low            | Small amounts, with extreme caution           |\n",
       "| Campfire         | Slow         | N/A               | Low           | Large      | Low            | N/A            | Outdoors, emergency situations                 |\n",
       "\n",
       "**Recommendation:**\n",
       "\n",
       "*   **For most everyday situations, an electric kettle is the best choice.** It's fast, efficient, and convenient.\n",
       "*   **If you need to boil large amounts of water, use a stovetop pot.** Induction stovetops are the best stovetop choice if you have induction-compatible cookware.\n",
       "*   **Avoid using a microwave to boil water** due to the risk of superheating. If you must use a microwave, do so with extreme caution.\n",
       "*   **For camping or emergencies, a campfire or portable stove is your only option.**\n",
       "\n",
       "Ultimately, the \"best\" method depends on your individual needs and circumstances. Consider the factors outlined above to make the most informed decision.\n"
      ],
      "text/plain": [
       "<IPython.core.display.Markdown object>"
      ]
     },
     "metadata": {},
     "output_type": "display_data"
    }
   ],
   "source": [
    "prompt = \"What's the best method of boiling water?\"\n",
    "\n",
    "response = client.models.generate_content(model=MODEL_ID, contents=prompt)\n",
    "display(Markdown(response.text))"
   ]
  },
  {
   "cell_type": "code",
   "execution_count": 12,
   "metadata": {
    "id": "KwUzhud4aA89",
    "tags": []
   },
   "outputs": [
    {
     "data": {
      "text/markdown": [
       "The sky is blue due to a phenomenon called **Rayleigh scattering**. Here's the breakdown:\n",
       "\n",
       "*   **Sunlight and Colors:** Sunlight is actually made up of all the colors of the rainbow. These colors have different wavelengths.\n",
       "*   **Atmosphere:** The Earth's atmosphere is full of tiny air molecules (mostly nitrogen and oxygen).\n",
       "*   **Scattering:** When sunlight enters the atmosphere, it collides with these air molecules. This collision causes the light to scatter in different directions.\n",
       "*   **Rayleigh Scattering and Wavelength:** Rayleigh scattering is much more effective at scattering shorter wavelengths (like blue and violet) than longer wavelengths (like red and orange). The amount of scattering is inversely proportional to the fourth power of the wavelength. This means blue light (shorter wavelength) is scattered about 10 times more than red light (longer wavelength).\n",
       "*   **Why Blue, Not Violet?** Although violet light has an even shorter wavelength than blue and is scattered even more, there's less violet in sunlight to begin with. Also, our eyes are more sensitive to blue light than violet.\n",
       "\n",
       "**In simpler terms:** Think of it like this: The air molecules are like tiny obstacles. When sunlight hits them, the blue light bounces off more easily and spreads all over the sky. The other colors don't bounce as much, so they travel more directly.\n",
       "\n",
       "**Why sunsets are red/orange:**\n",
       "\n",
       "When the sun is low on the horizon (during sunrise or sunset), the sunlight has to travel through much more of the atmosphere to reach your eyes. This means almost all the blue light is scattered away before it gets to you. The longer wavelengths, like red and orange, are able to pass through the atmosphere more easily, which is why you see those colors."
      ],
      "text/plain": [
       "<IPython.core.display.Markdown object>"
      ]
     },
     "metadata": {},
     "output_type": "display_data"
    }
   ],
   "source": [
    "prompt = \"Why is the sky blue?\"\n",
    "\n",
    "response = client.models.generate_content(model=MODEL_ID, contents=prompt)\n",
    "display(Markdown(response.text))"
   ]
  },
  {
   "cell_type": "markdown",
   "metadata": {
    "id": "PJIL2RTQaGcT"
   },
   "source": [
    "### Watch out for hallucinations"
   ]
  },
  {
   "cell_type": "markdown",
   "metadata": {
    "id": "8Y8kYxrSaHE9"
   },
   "source": [
    "Although LLMs have been trained on a large amount of data, they can generate text containing statements not grounded in truth or reality; these responses from the LLM are often referred to as \"hallucinations\" due to their limited memorization capabilities. Note that simply prompting the LLM to provide a citation isn't a fix to this problem, as there are instances of LLMs providing false or inaccurate citations. Dealing with hallucinations is a fundamental challenge of LLMs and an ongoing research area, so it is important to be cognizant that LLMs may seem to give you confident, correct-sounding statements that are in fact incorrect.\n",
    "\n",
    "Note that if you intend to use LLMs for the creative use cases, hallucinating could actually be quite useful."
   ]
  },
  {
   "cell_type": "markdown",
   "metadata": {
    "id": "8NY5nAGeaJYS"
   },
   "source": [
    "Try the prompt like the one below repeatedly. We set the temperature to `1.0` so that it takes more risks in its choices. It's possible that it may provide an inaccurate, but confident answer."
   ]
  },
  {
   "cell_type": "code",
   "execution_count": 13,
   "metadata": {
    "id": "QALPjEILaM62",
    "tags": []
   },
   "outputs": [
    {
     "data": {
      "text/markdown": [
       "Today is Friday, November 10th, 2023.\n"
      ],
      "text/plain": [
       "<IPython.core.display.Markdown object>"
      ]
     },
     "metadata": {},
     "output_type": "display_data"
    }
   ],
   "source": [
    "generation_config = GenerateContentConfig(temperature=1.0)\n",
    "\n",
    "prompt = \"What day is it today?\"\n",
    "\n",
    "response = client.models.generate_content(model=MODEL_ID, contents=prompt)\n",
    "display(Markdown(response.text))"
   ]
  },
  {
   "cell_type": "markdown",
   "metadata": {
    "id": "BRkwzbgRbhKt"
   },
   "source": [
    "Since LLMs do not have access to real-time information without further integrations, you may have noticed it hallucinates what day it is today in some of the outputs."
   ]
  },
  {
   "cell_type": "markdown",
   "metadata": {},
   "source": [
    "## Reduce Output Variability"
   ]
  },
  {
   "cell_type": "markdown",
   "metadata": {
    "id": "3c811e310d02"
   },
   "source": [
    "### Using system instructions to guardrail the model from irrelevant responses\n",
    "\n",
    "How can we attempt to reduce the chances of irrelevant responses and hallucinations?\n",
    "\n",
    "One way is to provide the LLM with [system instructions](https://cloud.google.com/vertex-ai/generative-ai/docs/multimodal/send-chat-prompts-gemini#system-instructions).\n",
    "\n",
    "Let's see how system instructions works and how you can use them to reduce hallucinations or irrelevant questions for a travel chatbot.\n",
    "\n",
    "Suppose we ask a simple question about one of Italy's most famous tourist spots."
   ]
  },
  {
   "cell_type": "code",
   "execution_count": 14,
   "metadata": {
    "id": "rB6zJU76biFK",
    "tags": []
   },
   "outputs": [
    {
     "data": {
      "text/markdown": [
       "The best place for sightseeing in Milan, Italy is the Piazza del Duomo. It is home to the Duomo di Milano, one of the largest cathedrals in the world.\n"
      ],
      "text/plain": [
       "<IPython.core.display.Markdown object>"
      ]
     },
     "metadata": {},
     "output_type": "display_data"
    }
   ],
   "source": [
    "generation_config = GenerateContentConfig(temperature=1.0)\n",
    "\n",
    "chat = client.chats.create(\n",
    "    model=MODEL_ID,\n",
    "    config=GenerateContentConfig(\n",
    "        system_instruction=[\n",
    "            \"Hello! You are an AI chatbot for a travel web site.\",\n",
    "            \"Your mission is to provide helpful queries for travelers.\",\n",
    "            \"Remember that before you answer a question, you must check to see if it complies with your mission.\",\n",
    "            \"If not, you can say, Sorry I can't answer that question.\",\n",
    "        ]\n",
    "    ),\n",
    ")\n",
    "\n",
    "prompt = \"What is the best place for sightseeing in Milan, Italy?\"\n",
    "\n",
    "response = chat.send_message(prompt)\n",
    "display(Markdown(response.text))"
   ]
  },
  {
   "cell_type": "markdown",
   "metadata": {
    "id": "WZa-Qcf9cF4A"
   },
   "source": [
    "Now let us pretend to be a user asks the chatbot a question that is unrelated to travel."
   ]
  },
  {
   "cell_type": "code",
   "execution_count": 15,
   "metadata": {
    "id": "AZKBIDr2cGnu",
    "tags": []
   },
   "outputs": [
    {
     "data": {
      "text/markdown": [
       "The best place for sightseeing in Milan, Italy is the Piazza del Duomo. It is home to the Duomo di Milano, one of the largest cathedrals in the world.\n"
      ],
      "text/plain": [
       "<IPython.core.display.Markdown object>"
      ]
     },
     "metadata": {},
     "output_type": "display_data"
    }
   ],
   "source": [
    "prompt = \"What is the best place for sightseeing in Milan, Italy?\"\n",
    "\n",
    "response = chat.send_message(prompt)\n",
    "display(Markdown(response.text))"
   ]
  },
  {
   "cell_type": "markdown",
   "metadata": {
    "id": "JiUYIhwpctCy"
   },
   "source": [
    "You can see that this way, a guardrail in the prompt prevented the chatbot from veering off course."
   ]
  },
  {
   "cell_type": "markdown",
   "metadata": {
    "id": "ZuuDhA37cvmP"
   },
   "source": [
    "### Turn generative tasks into classification tasks to reduce output variability"
   ]
  },
  {
   "cell_type": "markdown",
   "metadata": {
    "id": "kUCUrsUzczmb"
   },
   "source": [
    "#### Generative tasks lead to higher output variability"
   ]
  },
  {
   "cell_type": "markdown",
   "metadata": {
    "id": "a1xASHAkc46n"
   },
   "source": [
    "The prompt below results in an open-ended response, useful for brainstorming, but response is highly variable."
   ]
  },
  {
   "cell_type": "code",
   "execution_count": 16,
   "metadata": {
    "id": "nPfXQWIacwRf",
    "tags": []
   },
   "outputs": [
    {
     "data": {
      "text/markdown": [
       "Okay, let's tailor a programming activity to help you level up your skills. To give you the best recommendation, I need a little more information. Please answer these questions:\n",
       "\n",
       "1.  **What languages do you already know (even a little bit)?** (e.g., Python, JavaScript, Java, C++, HTML/CSS, etc.)\n",
       "2.  **What are you most interested in?** (e.g., web development, game development, data science, AI, mobile apps, cybersecurity, general problem-solving, etc.)\n",
       "3.  **What's your current skill level?** (e.g., Beginner - can write simple programs, Intermediate - comfortable with loops, functions, and basic data structures, Advanced - familiar with object-oriented programming, algorithms, and data structures)\n",
       "4.  **How much time do you want to dedicate to the activity per week?** (e.g., 2 hours, 5 hours, 10 hours)\n",
       "\n",
       "In the meantime, here are a few general recommendations, categorized by language and interest, that you can consider while you think about your answers:\n",
       "\n",
       "**General Problem Solving (Good for any language, especially Python or Java):**\n",
       "\n",
       "*   **Coding Challenges on Platforms like HackerRank or LeetCode:**  Start with \"Easy\" problems in the language you're most comfortable with. Focus on understanding the problem, breaking it down, and writing clean, efficient code.  This is great for improving your problem-solving skills and your ability to translate an idea into code. Specifically, I would recommend you practice basic data structures such as Arrays and Hashmaps/Dictionaries.\n",
       "\n",
       "**Web Development (HTML, CSS, JavaScript):**\n",
       "\n",
       "*   **Build a Simple To-Do List Application:** This is a classic for a reason. It touches on HTML for structure, CSS for styling, and JavaScript for interactivity (adding, deleting, and marking tasks as complete). You can extend it by adding features like due dates, priority levels, or local storage to save data even after the browser is closed.\n",
       "*   **Create a Personal Portfolio Website:** Showcase your skills and projects online!  This involves HTML for structure, CSS for styling, and potentially JavaScript for interactive elements.  You'll learn about web design principles and how to present yourself professionally online.\n",
       "\n",
       "**Game Development (Python with Pygame, or C++ with SDL):**\n",
       "\n",
       "*   **Make a Simple Text-Based Adventure Game:**  This involves using basic input/output, conditional statements, and loops to create an interactive story. It's a good way to practice logic and program flow.\n",
       "*   **Develop a \"Guess the Number\" Game:** Use a random number generator to generate a secret number, and prompt the user to guess. Provide feedback (higher/lower) until they guess correctly. This reinforces conditional statements and loops.\n",
       "\n",
       "**Data Science (Python with Pandas/NumPy):**\n",
       "\n",
       "*   **Analyze a Public Dataset:** Find a dataset on Kaggle or another data source (e.g., government websites often have open data). Use Pandas to load, clean, and explore the data. Use NumPy for numerical calculations.  Try to answer some interesting questions about the data.\n",
       "*   **Simple Data Visualization:** Using matplotlib or seaborn, create charts and graphs to visualize trends and patterns in the dataset you're analyzing.\n",
       "\n",
       "**AI/Machine Learning (Python with Scikit-learn/TensorFlow/PyTorch):**\n",
       "\n",
       "*   **Handwritten Digit Recognition with MNIST Dataset:** This is a classic beginner project in machine learning.  Use Scikit-learn to train a simple model (e.g., logistic regression or a support vector machine) to classify handwritten digits from the MNIST dataset.\n",
       "*   **Develop a Spam Filter:** Use a Naive Bayes classifier or other simple machine learning algorithm to classify emails as spam or not spam.  You'll need to find a dataset of labeled spam and non-spam emails.\n",
       "\n",
       "**Mobile App Development (Java/Kotlin for Android, Swift for iOS):**\n",
       "\n",
       "*   **Simple Calculator App:** Create a basic calculator app that can perform addition, subtraction, multiplication, and division. This will help you understand UI design and event handling.\n",
       "*   **Flashcard App:**  A flashcard app can help you learn vocabulary or other subjects. It will help you practice data management and UI design.\n",
       "\n",
       "**After you provide me with the answers to the questions above, I can give you a more specific and tailored recommendation!** I can also help you break down the chosen activity into smaller, more manageable tasks.\n"
      ],
      "text/plain": [
       "<IPython.core.display.Markdown object>"
      ]
     },
     "metadata": {},
     "output_type": "display_data"
    }
   ],
   "source": [
    "prompt = \"I'm a high school student. Recommend me a programming activity to improve my skills.\"\n",
    "\n",
    "response = client.models.generate_content(model=MODEL_ID, contents=prompt)\n",
    "display(Markdown(response.text))"
   ]
  },
  {
   "cell_type": "markdown",
   "metadata": {
    "id": "iAmm9wPYc_1o"
   },
   "source": [
    "#### Classification tasks reduces output variability"
   ]
  },
  {
   "cell_type": "markdown",
   "metadata": {
    "id": "VvRpK_0GdCpf"
   },
   "source": [
    "The prompt below results in a choice and may be useful if you want the output to be easier to control."
   ]
  },
  {
   "cell_type": "code",
   "execution_count": 17,
   "metadata": {
    "id": "kYDKh0r2dAqo",
    "tags": []
   },
   "outputs": [
    {
     "data": {
      "text/markdown": [
       "For a high school student, I strongly suggest choosing **either Python or JavaScript (leaning slightly towards Python).** Here's why, and why Fortran is not a good fit:\n",
       "\n",
       "*   **Python:**\n",
       "\n",
       "    *   **Beginner-Friendly:** Python is known for its clear, readable syntax.  It reads almost like plain English, making it easier to learn the fundamentals of programming.\n",
       "    *   **Versatile:**  Python is used in many different areas, including:\n",
       "        *   **Data Science & Machine Learning:** This is a huge field right now, and Python is the dominant language. If you're interested in AI, data analysis, or anything related, Python is essential.\n",
       "        *   **Web Development (Backend):** While JavaScript handles the front-end (what you see in your browser), Python can power the server-side logic. Frameworks like Django and Flask make web development easier.\n",
       "        *   **Scripting and Automation:**  Python is great for automating tasks, writing simple scripts to help with schoolwork, or even automating tasks on your computer.\n",
       "        *   **Game Development (simple):** Libraries like Pygame allow you to create simple 2D games.\n",
       "    *   **Large and Supportive Community:** If you get stuck, there are tons of online resources, tutorials, and forums to help you.  You'll easily find answers to your questions.\n",
       "    *   **Good for Future Studies:** If you plan to go to college and major in computer science, engineering, or any STEM field, you'll likely encounter Python. Learning it now will give you a head start.\n",
       "\n",
       "*   **JavaScript:**\n",
       "\n",
       "    *   **Essential for Web Development:**  JavaScript is *the* language of the web browser.  If you want to build interactive websites, you *need* to learn JavaScript.\n",
       "    *   **Front-End and Back-End:** JavaScript can also be used on the server-side with Node.js, making it a full-stack language (handles both the client and the server).\n",
       "    *   **Large Community:** Like Python, JavaScript has a massive community and tons of online resources.\n",
       "    *   **Visible Results:** You can see the results of your JavaScript code immediately in a web browser. This immediate feedback can be very motivating.\n",
       "    *   **Modern Frameworks:** Frameworks like React, Angular, and Vue.js are highly sought-after in the job market.  While these might be a bit advanced for a complete beginner, knowing JavaScript will allow you to learn these frameworks later.\n",
       "    *   **Interactive Websites:** Can create interactive website elements, like games, animations, and buttons that change the page.\n",
       "\n",
       "*   **Why NOT Fortran:**\n",
       "\n",
       "    *   **Outdated:** Fortran is an older language primarily used in scientific and engineering computing (e.g., weather forecasting, fluid dynamics).\n",
       "    *   **Limited Use Cases:**  While it's still used in specialized fields, it's not generally applicable to the kinds of projects you're likely to want to do as a high school student.\n",
       "    *   **Smaller Community:**  The Fortran community is much smaller than Python or JavaScript, making it harder to find help and resources.\n",
       "    *   **Less Relevant for General Programming:** Fortran's syntax and paradigms are less relevant to modern programming concepts.\n",
       "\n",
       "**Which to choose between Python and JavaScript?**\n",
       "\n",
       "*   **Choose Python if:**\n",
       "    *   You're interested in data science, machine learning, or general scripting/automation.\n",
       "    *   You want a language that's easy to learn and read.\n",
       "    *   You're planning on studying STEM in college.\n",
       "*   **Choose JavaScript if:**\n",
       "    *   You're interested in web development and building interactive websites.\n",
       "    *   You want to see immediate results in a web browser.\n",
       "    *   You want to learn a language that's essential for front-end development.\n",
       "\n",
       "**My Recommendation:**\n",
       "\n",
       "Start with **Python**.  It's more beginner-friendly, versatile, and applicable to a wider range of projects.  Once you have a good grasp of Python, you can easily pick up JavaScript if you decide you want to build websites. If web development is really your main goal, start with Javascript but be ready for a steeper learning curve.\n",
       "\n",
       "No matter which language you choose, **the key is to start building projects**.  Don't just read tutorials; actually write code!  Start with simple projects and gradually increase the complexity. You will solidify your knowledge as you put what you're learning into practice. Good luck!\n"
      ],
      "text/plain": [
       "<IPython.core.display.Markdown object>"
      ]
     },
     "metadata": {},
     "output_type": "display_data"
    }
   ],
   "source": [
    "prompt = \"\"\"I'm a high school student. Which of these activities do you suggest and why:\n",
    "a) learn Python\n",
    "b) learn JavaScript\n",
    "c) learn Fortran\n",
    "\"\"\"\n",
    "\n",
    "response = client.models.generate_content(model=MODEL_ID, contents=prompt)\n",
    "display(Markdown(response.text))"
   ]
  },
  {
   "cell_type": "markdown",
   "metadata": {
    "id": "iTd60b1GdIsx"
   },
   "source": [
    "### Improve response quality by including examples"
   ]
  },
  {
   "cell_type": "markdown",
   "metadata": {
    "id": "yJi44NejdJYE"
   },
   "source": [
    "Another way to improve response quality is to add examples in your prompt. The LLM learns in-context from the examples on how to respond. Typically, one to five examples (shots) are enough to improve the quality of responses. Including too many examples can cause the model to over-fit the data and reduce the quality of responses.\n",
    "\n",
    "Similar to classical model training, the quality and distribution of the examples is very important. Pick examples that are representative of the scenarios that you need the model to learn, and keep the distribution of the examples (e.g. number of examples per class in the case of classification) aligned with your actual distribution."
   ]
  },
  {
   "cell_type": "markdown",
   "metadata": {
    "id": "sMbLginWdOKs"
   },
   "source": [
    "#### Zero-shot prompt"
   ]
  },
  {
   "cell_type": "markdown",
   "metadata": {
    "id": "Crh2Loi2dQ0v"
   },
   "source": [
    "Below is an example of zero-shot prompting, where you don't provide any examples to the LLM within the prompt itself."
   ]
  },
  {
   "cell_type": "code",
   "execution_count": 18,
   "metadata": {
    "id": "-7myRc-SdTQ4",
    "tags": []
   },
   "outputs": [
    {
     "data": {
      "text/markdown": [
       "Positive\n"
      ],
      "text/plain": [
       "<IPython.core.display.Markdown object>"
      ]
     },
     "metadata": {},
     "output_type": "display_data"
    }
   ],
   "source": [
    "prompt = \"\"\"Decide whether a Tweet's sentiment is positive, neutral, or negative.\n",
    "\n",
    "Tweet: I loved the new YouTube video you made!\n",
    "Sentiment:\n",
    "\"\"\"\n",
    "\n",
    "response = client.models.generate_content(model=MODEL_ID, contents=prompt)\n",
    "display(Markdown(response.text))"
   ]
  },
  {
   "cell_type": "markdown",
   "metadata": {
    "id": "ucRtPn9SdL64"
   },
   "source": [
    "#### One-shot prompt"
   ]
  },
  {
   "cell_type": "markdown",
   "metadata": {
    "id": "rs0gQH2vdYBi"
   },
   "source": [
    "Below is an example of one-shot prompting, where you provide one example to the LLM within the prompt to give some guidance on what type of response you want."
   ]
  },
  {
   "cell_type": "code",
   "execution_count": 19,
   "metadata": {
    "id": "iEq-KxGYdaT5",
    "tags": []
   },
   "outputs": [
    {
     "data": {
      "text/markdown": [
       "Sentiment: negative\n"
      ],
      "text/plain": [
       "<IPython.core.display.Markdown object>"
      ]
     },
     "metadata": {},
     "output_type": "display_data"
    }
   ],
   "source": [
    "prompt = \"\"\"Decide whether a Tweet's sentiment is positive, neutral, or negative.\n",
    "\n",
    "Tweet: I loved the new YouTube video you made!\n",
    "Sentiment: positive\n",
    "\n",
    "Tweet: That was awful. Super boring 😠\n",
    "Sentiment:\n",
    "\"\"\"\n",
    "\n",
    "response = client.models.generate_content(model=MODEL_ID, contents=prompt)\n",
    "display(Markdown(response.text))"
   ]
  },
  {
   "cell_type": "markdown",
   "metadata": {
    "id": "JnKLjJzmdfL_"
   },
   "source": [
    "#### Few-shot prompt"
   ]
  },
  {
   "cell_type": "markdown",
   "metadata": {
    "id": "6Zv-9F5OdgI_"
   },
   "source": [
    "Below is an example of few-shot prompting, where you provide a few examples to the LLM within the prompt to give some guidance on what type of response you want."
   ]
  },
  {
   "cell_type": "code",
   "execution_count": 20,
   "metadata": {
    "id": "u37P9tG4dk9S",
    "tags": []
   },
   "outputs": [
    {
     "data": {
      "text/markdown": [
       "Sentiment: positive\n"
      ],
      "text/plain": [
       "<IPython.core.display.Markdown object>"
      ]
     },
     "metadata": {},
     "output_type": "display_data"
    }
   ],
   "source": [
    "prompt = \"\"\"Decide whether a Tweet's sentiment is positive, neutral, or negative.\n",
    "\n",
    "Tweet: I loved the new YouTube video you made!\n",
    "Sentiment: positive\n",
    "\n",
    "Tweet: That was awful. Super boring 😠\n",
    "Sentiment: negative\n",
    "\n",
    "Tweet: Something surprised me about this video - it was actually original. It was not the same old recycled stuff that I always see. Watch it - you will not regret it.\n",
    "Sentiment:\n",
    "\"\"\"\n",
    "\n",
    "response = client.models.generate_content(model=MODEL_ID, contents=prompt)\n",
    "display(Markdown(response.text))"
   ]
  },
  {
   "cell_type": "markdown",
   "metadata": {
    "id": "wDMD3xb2dvX6"
   },
   "source": [
    "#### Choosing between zero-shot, one-shot, few-shot prompting methods"
   ]
  },
  {
   "cell_type": "markdown",
   "metadata": {
    "id": "s92W0YpNdxJp"
   },
   "source": [
    "Which prompt technique to use will solely depends on your goal. The zero-shot prompts are more open-ended and can give you creative answers, while one-shot and few-shot prompts teach the model how to behave so you can get more predictable answers that are consistent with the examples provided."
   ]
  },
  {
   "cell_type": "code",
   "execution_count": null,
   "metadata": {},
   "outputs": [],
   "source": []
  },
  {
   "cell_type": "code",
   "execution_count": null,
   "metadata": {},
   "outputs": [],
   "source": []
  },
  {
   "cell_type": "code",
   "execution_count": null,
   "metadata": {},
   "outputs": [],
   "source": []
  },
  {
   "cell_type": "code",
   "execution_count": null,
   "metadata": {},
   "outputs": [],
   "source": []
  },
  {
   "cell_type": "code",
   "execution_count": null,
   "metadata": {},
   "outputs": [],
   "source": []
  },
  {
   "cell_type": "code",
   "execution_count": null,
   "metadata": {},
   "outputs": [],
   "source": []
  },
  {
   "cell_type": "code",
   "execution_count": null,
   "metadata": {},
   "outputs": [],
   "source": []
  }
 ],
 "metadata": {
  "colab": {
   "name": "intro_prompt_design.ipynb",
   "toc_visible": true
  },
  "environment": {
   "kernel": "conda-base-py",
   "name": "workbench-notebooks.m129",
   "type": "gcloud",
   "uri": "us-docker.pkg.dev/deeplearning-platform-release/gcr.io/workbench-notebooks:m129"
  },
  "kernelspec": {
   "display_name": "Python 3 (ipykernel) (Local)",
   "language": "python",
   "name": "conda-base-py"
  },
  "language_info": {
   "codemirror_mode": {
    "name": "ipython",
    "version": 3
   },
   "file_extension": ".py",
   "mimetype": "text/x-python",
   "name": "python",
   "nbconvert_exporter": "python",
   "pygments_lexer": "ipython3",
   "version": "3.10.16"
  }
 },
 "nbformat": 4,
 "nbformat_minor": 4
}
